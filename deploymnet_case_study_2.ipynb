{
  "nbformat": 4,
  "nbformat_minor": 0,
  "metadata": {
    "colab": {
      "provenance": []
    },
    "kernelspec": {
      "name": "python3",
      "display_name": "Python 3"
    },
    "language_info": {
      "name": "python"
    },
    "gpuClass": "standard"
  },
  "cells": [
    {
      "cell_type": "code",
      "execution_count": 1,
      "metadata": {
        "id": "OXMWrWlxJ3tW"
      },
      "outputs": [],
      "source": [
        "!pip -q install streamlit"
      ]
    },
    {
      "cell_type": "code",
      "source": [
        "!pip -q install pyngrok"
      ],
      "metadata": {
        "id": "C0c8M1u4KEE-"
      },
      "execution_count": 2,
      "outputs": []
    },
    {
      "cell_type": "code",
      "source": [
        "import cv2, os, random\n",
        "from pyngrok import ngrok\n",
        "from io import StringIO \n",
        "import numpy as np\n",
        "import pandas as pd\n",
        "from PIL import Image\n",
        "import matplotlib.pyplot as plt\n",
        "from pyngrok import ngrok\n",
        "import streamlit as st\n",
        "import torch\n",
        "import torchvision.transforms as T\n",
        "import tensorflow as tf\n",
        "from tensorflow import keras\n",
        "from tensorflow.keras.models import Sequential,Model\n",
        "from tensorflow.keras.layers import Dense, Dropout, Flatten,concatenate,Input,LSTM, Reshape,Permute\n",
        "from tensorflow.keras.layers import Conv2D, MaxPooling2D,Conv1D,Conv2DTranspose,BatchNormalization\n",
        "from tensorflow.keras.callbacks import ModelCheckpoint, LearningRateScheduler,TensorBoard\n",
        "from tensorflow.keras.models import *\n",
        "from tensorflow.keras.layers import *\n",
        "from tensorflow.keras.optimizers import *"
      ],
      "metadata": {
        "id": "XNoZ-S-_YvYq"
      },
      "execution_count": 3,
      "outputs": []
    },
    {
      "cell_type": "code",
      "source": [
        "%%writefile app.py\n",
        "import cv2, os, random\n",
        "from pyngrok import ngrok\n",
        "from io import StringIO \n",
        "import numpy as np\n",
        "import pandas as pd\n",
        "from PIL import Image\n",
        "import matplotlib.pyplot as plt\n",
        "from pyngrok import ngrok\n",
        "import streamlit as st\n",
        "import torch\n",
        "import torchvision.transforms as T\n",
        "import tensorflow as tf\n",
        "from tensorflow import keras\n",
        "from tensorflow.keras.models import Sequential,Model\n",
        "from tensorflow.keras.layers import Dense, Dropout, Flatten,concatenate,Input,LSTM, Reshape,Permute\n",
        "from tensorflow.keras.layers import Conv2D, MaxPooling2D,Conv1D,Conv2DTranspose,BatchNormalization\n",
        "from tensorflow.keras.callbacks import ModelCheckpoint, LearningRateScheduler,TensorBoard\n",
        "from tensorflow.keras.models import *\n",
        "from tensorflow.keras.layers import *\n",
        "from tensorflow.keras.optimizers import *\n",
        "\n",
        "# Unet Model Architecture\n",
        "def unet(pretrained_weigths=None):\n",
        "  input = Input(shape = (256,320,3))\n",
        "  \n",
        "  conv_1 = Conv2D(64,(3,3),activation='relu', padding = 'same')(input)\n",
        "  conv_2 = Conv2D(64,(3,3),activation = 'relu', padding = 'same')(conv_1)\n",
        "  pool_1 =  MaxPooling2D(pool_size =(2,2))(conv_2)\n",
        "  pool_1 = Dropout(0.5)(pool_1)\n",
        "\n",
        "\n",
        "  conv_3 = Conv2D(128,(3,3),activation = 'relu', padding = 'same')(pool_1)\n",
        "  conv_4 = Conv2D(128,(3,3), activation ='relu', padding = 'same')(conv_3)\n",
        "  pool_2 = MaxPooling2D(pool_size = (2,2))(conv_4)\n",
        "  pool_2 = Dropout(0.5)(pool_2)\n",
        "\n",
        "\n",
        "  conv_5 = Conv2D(256,(3,3),activation='relu', padding = 'same')(pool_2)\n",
        "  conv_6 = Conv2D(256,(3,3),activation = 'relu', padding = 'same')(conv_5)\n",
        "  pool_3 = MaxPooling2D(pool_size=(2,2))(conv_6)\n",
        "  pool_3 = Dropout(0.5)(pool_3)\n",
        "\n",
        "  conv_7 = Conv2D(512,(3,3),activation = 'relu', padding = 'same')(pool_3)\n",
        "  conv_8 = Conv2D(512,(3,3),activation = 'relu', padding = 'same')(conv_7)\n",
        "  pool_4 = MaxPooling2D(pool_size=(2,2))(conv_8)\n",
        "  pool_4 = Dropout(0.5)(pool_4)\n",
        "\n",
        "\n",
        "  conv_9 =Conv2D(1024,(3,3),activation = 'relu', padding = 'same')(pool_4)\n",
        "  conv_10 = Conv2D(1024,(3,3),activation ='relu', padding = 'same')(conv_9)\n",
        "\n",
        "  upconv_1 = Conv2DTranspose(512,(3,3),strides= (2,2),padding='same')(conv_10)\n",
        "  concat_1 = concatenate([upconv_1,conv_8],axis=3)\n",
        "  concat_1 = Dropout(0.5)(concat_1)\n",
        "  \n",
        "  conv_11 = Conv2D(512,(3,3),activation='relu', padding = 'same')(concat_1)\n",
        "  conv_12 = Conv2D(512,(3,3),activation='relu', padding = 'same')(conv_11)\n",
        "\n",
        "  upconv_2 = Conv2DTranspose(256,(3,3),strides = (2,2),padding='same')(conv_12)\n",
        "  concat_2 = concatenate([upconv_2,conv_6],axis=3)\n",
        "  concat_2 = Dropout(0.5)(concat_2)\n",
        "\n",
        "  conv_13 = Conv2D(256,(3,3),activation = 'relu', padding = 'same')(concat_2)\n",
        "  conv_14 = Conv2D(256,(3,3),activation = 'relu', padding = 'same')(conv_13)\n",
        "\n",
        "  upconv_3 = Conv2DTranspose(128,(3,3),strides = (2,2),padding='same')(conv_14)\n",
        "  concat_3 = concatenate([upconv_3,conv_4],axis=3)\n",
        "  concat_3 = Dropout(0.5)(concat_3)\n",
        "\n",
        "  conv_15 = Conv2D(128,(3,3),activation='relu', padding = 'same')(concat_3)\n",
        "  conv_16 = Conv2D(128,(3,3),activation='relu', padding = 'same')(conv_15)\n",
        "\n",
        "  upconv_4 = Conv2DTranspose(64,(3,3),strides = (2,2),padding='same')(conv_16)\n",
        "  concat_4 = concatenate([upconv_4,conv_2],axis=3)\n",
        "  concat_4 = Dropout(0.5)(concat_4)\n",
        "\n",
        "  conv_17 = Conv2D(64,(3,3),activation='relu', padding = 'same')(concat_4)\n",
        "  conv_18 =Conv2D(64,(3,3),activation='relu', padding = 'same')(conv_17)\n",
        "  \n",
        "  out = Conv2D(7,(1,1),padding='same',activation = 'softmax')(conv_18)\n",
        "  model = Model(input,out)\n",
        "  return model\n",
        "model = unet()\n",
        "model.load_weights('/content/drive/MyDrive/unet_best_model.h5')\n",
        "\n",
        "def plot_predicted_mask(original_img,predicted_mask):\n",
        "    \"\"\"\n",
        "    Inputs: image and mask \n",
        "    Outputs: plot both image and plot side by side\n",
        "    \"\"\"\n",
        "    fig, axes = plt.subplots(nrows=1, ncols=2, figsize=(7, 5))\n",
        "    axes[0].imshow(original_img)\n",
        "    axes[0].get_xaxis().set_visible(False)\n",
        "    axes[0].get_yaxis().set_visible(False)\n",
        "    axes[0].set_title('Original MRI')\n",
        "    axes[1].imshow(predicted_mask)\n",
        "    axes[1].get_xaxis().set_visible(False)\n",
        "    axes[1].get_yaxis().set_visible(False)\n",
        "    axes[1].set_title('Predicted Mask')\n",
        "    fig.tight_layout()\n",
        "    filename = 'pair' + str(random.randint(100,1000) ) + str(random.randint(100,1000) ) + '.png'\n",
        "    plt.savefig(filename)\n",
        "    print('File saved successully')\n",
        "    print(filename)\n",
        "    return  filename\n",
        "\n",
        "def tensor_to_image(tensor):\n",
        "    tensor = tensor*255\n",
        "    tensor = np.array(tensor, dtype=np.uint8)\n",
        "    if np.ndim(tensor)>3:\n",
        "        assert tensor.shape[0] == 1\n",
        "        tensor = tensor[0]\n",
        "    return Image.fromarray(tensor)\n",
        "\n",
        "st.title('Indian Driving image segmentation')\n",
        "st.markdown(\"***\")\n",
        "\n",
        "st.subheader('Upload the Image')\n",
        "file_uploaded = st.file_uploader('Choose the file', type = ['jpg','png','jpeg'])\n",
        "if file_uploaded is not None:\n",
        "  orginal_image = Image.open(file_uploaded)\n",
        "  orginal_image = np.array(orginal_image)\n",
        "  test_image = cv2.resize(orginal_image,(320,256))\n",
        "  test_image = np.float32(test_image)/255\n",
        "  lst = []\n",
        "  lst.append(test_image)\n",
        "  img = np.array(lst)\n",
        "  predicted_mask = model.predict(img)\n",
        "  predicted_mask = tf.argmax(predicted_mask, axis=-1)\n",
        "  predicted_mask = tf.squeeze(predicted_mask, axis=0) \n",
        "  figure = plot_predicted_mask(orginal_image,predicted_mask)\n",
        "  plot = Image.open(figure)\n",
        "  st.image(plot)"
      ],
      "metadata": {
        "colab": {
          "base_uri": "https://localhost:8080/"
        },
        "id": "Ew9DZlI-KFLI",
        "outputId": "5184bada-b82f-4808-eee7-5156c61cb3f1"
      },
      "execution_count": 4,
      "outputs": [
        {
          "output_type": "stream",
          "name": "stdout",
          "text": [
            "Overwriting app.py\n"
          ]
        }
      ]
    },
    {
      "cell_type": "code",
      "source": [
        "!ngrok authtoken 2GlIgpUei0zMptzNQopwoWlM1K0_5RivwJz8MEUpjXD7nGAWK"
      ],
      "metadata": {
        "colab": {
          "base_uri": "https://localhost:8080/"
        },
        "id": "1O1ZLBa6YYpg",
        "outputId": "0bf6b369-a594-44e4-b791-ed5c0e13370c"
      },
      "execution_count": 5,
      "outputs": [
        {
          "output_type": "stream",
          "name": "stdout",
          "text": [
            "Authtoken saved to configuration file: /root/.ngrok2/ngrok.yml\n"
          ]
        }
      ]
    },
    {
      "cell_type": "code",
      "source": [
        "public_url = ngrok.connect(port='80')\n",
        "print (public_url)\n",
        "!streamlit run --server.port 80 app.py >/dev/null"
      ],
      "metadata": {
        "colab": {
          "base_uri": "https://localhost:8080/"
        },
        "id": "YsTfkcKZTnS5",
        "outputId": "bda59b98-826a-4cc1-950d-77d922c70946"
      },
      "execution_count": null,
      "outputs": [
        {
          "output_type": "stream",
          "name": "stderr",
          "text": [
            "INFO:pyngrok.ngrok:Opening tunnel named: http-80-9f6f17eb-232c-4a10-989a-9c89686a2785\n",
            "2022-10-31 11:18:35.226 INFO    pyngrok.ngrok: Opening tunnel named: http-80-9f6f17eb-232c-4a10-989a-9c89686a2785\n",
            "INFO:pyngrok.process.ngrok:t=2022-10-31T11:18:35+0000 lvl=info msg=\"no configuration paths supplied\"\n",
            "2022-10-31 11:18:35.263 INFO    pyngrok.process.ngrok: t=2022-10-31T11:18:35+0000 lvl=info msg=\"no configuration paths supplied\"\n",
            "INFO:pyngrok.process.ngrok:t=2022-10-31T11:18:35+0000 lvl=info msg=\"using configuration at default config path\" path=/root/.ngrok2/ngrok.yml\n",
            "2022-10-31 11:18:35.266 INFO    pyngrok.process.ngrok: t=2022-10-31T11:18:35+0000 lvl=info msg=\"using configuration at default config path\" path=/root/.ngrok2/ngrok.yml\n",
            "INFO:pyngrok.process.ngrok:t=2022-10-31T11:18:35+0000 lvl=info msg=\"open config file\" path=/root/.ngrok2/ngrok.yml err=nil\n",
            "2022-10-31 11:18:35.270 INFO    pyngrok.process.ngrok: t=2022-10-31T11:18:35+0000 lvl=info msg=\"open config file\" path=/root/.ngrok2/ngrok.yml err=nil\n",
            "INFO:pyngrok.process.ngrok:t=2022-10-31T11:18:35+0000 lvl=info msg=\"starting web service\" obj=web addr=127.0.0.1:4040\n",
            "2022-10-31 11:18:35.281 INFO    pyngrok.process.ngrok: t=2022-10-31T11:18:35+0000 lvl=info msg=\"starting web service\" obj=web addr=127.0.0.1:4040\n",
            "INFO:pyngrok.process.ngrok:t=2022-10-31T11:18:35+0000 lvl=info msg=\"tunnel session started\" obj=tunnels.session\n",
            "2022-10-31 11:18:35.360 INFO    pyngrok.process.ngrok: t=2022-10-31T11:18:35+0000 lvl=info msg=\"tunnel session started\" obj=tunnels.session\n",
            "INFO:pyngrok.process.ngrok:t=2022-10-31T11:18:35+0000 lvl=info msg=\"client session established\" obj=csess id=a5e26760c5fa\n",
            "2022-10-31 11:18:35.371 INFO    pyngrok.process.ngrok: t=2022-10-31T11:18:35+0000 lvl=info msg=\"client session established\" obj=csess id=a5e26760c5fa\n",
            "INFO:pyngrok.process.ngrok:t=2022-10-31T11:18:35+0000 lvl=info msg=start pg=/api/tunnels id=9d40287768661a32\n",
            "2022-10-31 11:18:35.389 INFO    pyngrok.process.ngrok: t=2022-10-31T11:18:35+0000 lvl=info msg=start pg=/api/tunnels id=9d40287768661a32\n",
            "INFO:pyngrok.process.ngrok:t=2022-10-31T11:18:35+0000 lvl=info msg=end pg=/api/tunnels id=9d40287768661a32 status=200 dur=274.79µs\n",
            "2022-10-31 11:18:35.399 INFO    pyngrok.process.ngrok: t=2022-10-31T11:18:35+0000 lvl=info msg=end pg=/api/tunnels id=9d40287768661a32 status=200 dur=274.79µs\n",
            "INFO:pyngrok.process.ngrok:t=2022-10-31T11:18:35+0000 lvl=info msg=start pg=/api/tunnels id=fc8d400d79d1feb2\n",
            "2022-10-31 11:18:35.404 INFO    pyngrok.process.ngrok: t=2022-10-31T11:18:35+0000 lvl=info msg=start pg=/api/tunnels id=fc8d400d79d1feb2\n",
            "INFO:pyngrok.process.ngrok:t=2022-10-31T11:18:35+0000 lvl=info msg=end pg=/api/tunnels id=fc8d400d79d1feb2 status=200 dur=2.64864ms\n",
            "2022-10-31 11:18:35.426 INFO    pyngrok.process.ngrok: t=2022-10-31T11:18:35+0000 lvl=info msg=end pg=/api/tunnels id=fc8d400d79d1feb2 status=200 dur=2.64864ms\n",
            "INFO:pyngrok.process.ngrok:t=2022-10-31T11:18:35+0000 lvl=info msg=start pg=/api/tunnels id=caf749e8926041ef\n",
            "2022-10-31 11:18:35.433 INFO    pyngrok.process.ngrok: t=2022-10-31T11:18:35+0000 lvl=info msg=start pg=/api/tunnels id=caf749e8926041ef\n",
            "INFO:pyngrok.process.ngrok:t=2022-10-31T11:18:35+0000 lvl=info msg=\"started tunnel\" obj=tunnels name=\"http-80-9f6f17eb-232c-4a10-989a-9c89686a2785 (http)\" addr=http://localhost:80 url=http://6a62-34-86-237-200.ngrok.io\n",
            "2022-10-31 11:18:35.457 INFO    pyngrok.process.ngrok: t=2022-10-31T11:18:35+0000 lvl=info msg=\"started tunnel\" obj=tunnels name=\"http-80-9f6f17eb-232c-4a10-989a-9c89686a2785 (http)\" addr=http://localhost:80 url=http://6a62-34-86-237-200.ngrok.io\n",
            "INFO:pyngrok.process.ngrok:t=2022-10-31T11:18:35+0000 lvl=info msg=\"started tunnel\" obj=tunnels name=http-80-9f6f17eb-232c-4a10-989a-9c89686a2785 addr=http://localhost:80 url=https://6a62-34-86-237-200.ngrok.io\n",
            "2022-10-31 11:18:35.463 INFO    pyngrok.process.ngrok: t=2022-10-31T11:18:35+0000 lvl=info msg=\"started tunnel\" obj=tunnels name=http-80-9f6f17eb-232c-4a10-989a-9c89686a2785 addr=http://localhost:80 url=https://6a62-34-86-237-200.ngrok.io\n",
            "INFO:pyngrok.process.ngrok:t=2022-10-31T11:18:35+0000 lvl=info msg=end pg=/api/tunnels id=caf749e8926041ef status=201 dur=55.325365ms\n",
            "2022-10-31 11:18:35.484 INFO    pyngrok.process.ngrok: t=2022-10-31T11:18:35+0000 lvl=info msg=end pg=/api/tunnels id=caf749e8926041ef status=201 dur=55.325365ms\n",
            "INFO:pyngrok.process.ngrok:t=2022-10-31T11:18:35+0000 lvl=info msg=start pg=\"/api/tunnels/http-80-9f6f17eb-232c-4a10-989a-9c89686a2785 (http)\" id=74f8c856e63610af\n",
            "2022-10-31 11:18:35.494 INFO    pyngrok.process.ngrok: t=2022-10-31T11:18:35+0000 lvl=info msg=start pg=\"/api/tunnels/http-80-9f6f17eb-232c-4a10-989a-9c89686a2785 (http)\" id=74f8c856e63610af\n",
            "INFO:pyngrok.process.ngrok:t=2022-10-31T11:18:35+0000 lvl=info msg=end pg=\"/api/tunnels/http-80-9f6f17eb-232c-4a10-989a-9c89686a2785 (http)\" id=74f8c856e63610af status=200 dur=108.151µs\n",
            "2022-10-31 11:18:35.506 INFO    pyngrok.process.ngrok: t=2022-10-31T11:18:35+0000 lvl=info msg=end pg=\"/api/tunnels/http-80-9f6f17eb-232c-4a10-989a-9c89686a2785 (http)\" id=74f8c856e63610af status=200 dur=108.151µs\n"
          ]
        },
        {
          "output_type": "stream",
          "name": "stdout",
          "text": [
            "NgrokTunnel: \"http://6a62-34-86-237-200.ngrok.io\" -> \"http://localhost:80\"\n"
          ]
        },
        {
          "output_type": "stream",
          "name": "stderr",
          "text": [
            "INFO:pyngrok.process.ngrok:t=2022-10-31T11:18:40+0000 lvl=info msg=\"join connections\" obj=join id=4b68c778c81e l=127.0.0.1:80 r=103.2.234.62:1214\n",
            "2022-10-31 11:18:40.960 INFO    pyngrok.process.ngrok: t=2022-10-31T11:18:40+0000 lvl=info msg=\"join connections\" obj=join id=4b68c778c81e l=127.0.0.1:80 r=103.2.234.62:1214\n",
            "INFO:pyngrok.process.ngrok:t=2022-10-31T11:18:41+0000 lvl=info msg=\"join connections\" obj=join id=245f936cff0d l=127.0.0.1:80 r=103.2.234.62:1214\n",
            "2022-10-31 11:18:41.295 INFO    pyngrok.process.ngrok: t=2022-10-31T11:18:41+0000 lvl=info msg=\"join connections\" obj=join id=245f936cff0d l=127.0.0.1:80 r=103.2.234.62:1214\n",
            "INFO:pyngrok.process.ngrok:t=2022-10-31T11:18:41+0000 lvl=info msg=\"join connections\" obj=join id=84872d962f47 l=127.0.0.1:80 r=103.2.234.62:1213\n",
            "2022-10-31 11:18:41.303 INFO    pyngrok.process.ngrok: t=2022-10-31T11:18:41+0000 lvl=info msg=\"join connections\" obj=join id=84872d962f47 l=127.0.0.1:80 r=103.2.234.62:1213\n",
            "INFO:pyngrok.process.ngrok:t=2022-10-31T11:18:41+0000 lvl=info msg=\"join connections\" obj=join id=2d034bfcb1ea l=127.0.0.1:80 r=103.2.234.62:1241\n",
            "2022-10-31 11:18:41.574 INFO    pyngrok.process.ngrok: t=2022-10-31T11:18:41+0000 lvl=info msg=\"join connections\" obj=join id=2d034bfcb1ea l=127.0.0.1:80 r=103.2.234.62:1241\n",
            "INFO:pyngrok.process.ngrok:t=2022-10-31T11:18:47+0000 lvl=info msg=\"join connections\" obj=join id=1c3480f0d73b l=127.0.0.1:80 r=103.2.234.62:1260\n",
            "2022-10-31 11:18:47.623 INFO    pyngrok.process.ngrok: t=2022-10-31T11:18:47+0000 lvl=info msg=\"join connections\" obj=join id=1c3480f0d73b l=127.0.0.1:80 r=103.2.234.62:1260\n"
          ]
        },
        {
          "output_type": "stream",
          "name": "stdout",
          "text": [
            "2022-10-31 11:18:50.547634: E tensorflow/stream_executor/cuda/cuda_driver.cc:271] failed call to cuInit: CUDA_ERROR_NO_DEVICE: no CUDA-capable device is detected\n"
          ]
        },
        {
          "output_type": "stream",
          "name": "stderr",
          "text": [
            "INFO:pyngrok.process.ngrok:t=2022-10-31T11:18:52+0000 lvl=info msg=\"join connections\" obj=join id=7e5a9596b0d7 l=127.0.0.1:80 r=103.2.234.62:1215\n",
            "2022-10-31 11:18:52.245 INFO    pyngrok.process.ngrok: t=2022-10-31T11:18:52+0000 lvl=info msg=\"join connections\" obj=join id=7e5a9596b0d7 l=127.0.0.1:80 r=103.2.234.62:1215\n"
          ]
        }
      ]
    },
    {
      "cell_type": "code",
      "source": [],
      "metadata": {
        "id": "Tzc9eFVewYhs"
      },
      "execution_count": 6,
      "outputs": []
    }
  ]
}